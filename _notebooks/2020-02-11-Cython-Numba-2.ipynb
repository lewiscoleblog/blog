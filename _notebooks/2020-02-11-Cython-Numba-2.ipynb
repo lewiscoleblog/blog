{
 "cells": [
  {
   "cell_type": "markdown",
   "metadata": {},
   "source": [
    "# \"Cython Vs Numba: An Example\"\n",
    "> \"A basic implementation of an Ising model to demonstrate the differences between Cython and Number as a way of speeding up loopy Python code\"\n",
    "- toc: true\n",
    "- author: Lewis Cole (2020)\n",
    "- branch: master\n",
    "- badges: false\n",
    "- comments: false\n",
    "- categories: [performant-python, computation, cython, numba, Ising-Model]\n",
    "- hide: false\n",
    "- search_exclude: false\n",
    "- image: https://github.com/lewiscoleblog/blog/raw/master/images/cython-numba/cython-numba.png"
   ]
  },
  {
   "cell_type": "markdown",
   "metadata": {},
   "source": [
    "Following on from the previous blog post [here](https://lewiscoleblog.com/cython-numba) comparing the relative merits of Cython Vs Numba I thought I'd illustrate this with implementations of a relatively simple model: a vanilla 2d Ising Model. This is a prime target for a performance boost since it is a very \"loopy\" code. I will not cover what the Ising Model is/how it works ([you can check that here!](https://en.wikipedia.org/wiki/Ising_model)). It is a very interesting model and I may return to it at a later date to look at some of its properties and explore it more deeply (and maybe spin glass models more generally). For now it will just be a test subject to explore performant python type code. \n",
    "\n",
    "In this blog I will present a few different versions, I won't throw the kitchen sink at them to get the absolute best performance but will adopt an 80/20 principle. I will not try any parallelisation or clever memory management outside of what comes pre-canned."
   ]
  },
  {
   "cell_type": "markdown",
   "metadata": {},
   "source": [
    "## Python\n",
    "\n",
    "This is a basic python implementation using a lot of looping. Even for a relatively small models this code will likely be fairl slow due to the looping. "
   ]
  },
  {
   "cell_type": "code",
   "execution_count": 1,
   "metadata": {},
   "outputs": [],
   "source": [
    "import numpy as np\n",
    "\n",
    "# Grid size: N (int) NxN square latice\n",
    "N = 1000\n",
    "\n",
    "# Fix Temp\n",
    "kT = 2 / np.log(1 + np.sqrt(2))\n",
    "\n",
    "# Fix seed\n",
    "np.random.seed(123)\n",
    "\n",
    "# Random Initialize\n",
    "spins = 2*np.random.randint(2, size=(N, N))-1\n",
    "\n",
    "# Get sum of neighbours\n",
    "def neighbour_sum(i, j, spin_array):\n",
    "    north, south, east, west = 0, 0, 0, 0\n",
    "    max_height = spin_array.shape[0]\n",
    "    max_width = spin_array.shape[1]\n",
    "    if i > 0:\n",
    "        north = spin_array[i-1, j]\n",
    "    if i < max_height-1:\n",
    "        south = spin_array[i+1, j]\n",
    "    if j > 0:\n",
    "        west = spin_array[i, j-1]\n",
    "    if j < max_width-1:\n",
    "        east = spin_array[i, j+1]\n",
    "    res = north + south + east + west\n",
    "    return res\n",
    "\n",
    "def dE(i, j, spin_array):\n",
    "    return 2*spin_array[i, j]*neighbour_sum(i, j, spin_array)\n",
    "\n",
    "def update(spin_array):\n",
    "    height = spin_array.shape[0]\n",
    "    width = spin_array.shape[1]\n",
    "    \n",
    "    for y_offset in range(2):\n",
    "        for x_offset in range(2):\n",
    "            for i in range(y_offset, height, 2):\n",
    "                for j in range(x_offset, width, 2):\n",
    "                    dEtmp = dE(i, j, spin_array)\n",
    "                    if dEtmp <= 0 or np.exp(-dEtmp / kT) > np.random.random():\n",
    "                        spin_array[i, j] *= -1\n",
    "\n",
    "    return spin_array\n",
    "\n",
    "def _main_code(M, spin_array):\n",
    "    spin_tmp = spin_array\n",
    "    for x in range(M):\n",
    "        spin_tmp = update(spin_tmp)\n",
    "    return spin_tmp"
   ]
  },
  {
   "cell_type": "markdown",
   "metadata": {},
   "source": [
    "## Numba\n",
    "\n",
    "For this code we will just take the above code and use the njit decorator (forcing the use of LLVM - a jit decorator will fall back to Python object mode if it cannot work out how to use LLVM). This is literally a few seconds of coding updates."
   ]
  },
  {
   "cell_type": "code",
   "execution_count": 2,
   "metadata": {},
   "outputs": [],
   "source": [
    "import numpy as np\n",
    "from numba import njit\n",
    "\n",
    "# Grid size: N (int) NxN square latice\n",
    "N = 1000\n",
    "\n",
    "# Fix Temp\n",
    "kT = 2 / np.log(1 + np.sqrt(2))\n",
    "\n",
    "# Fix seed\n",
    "np.random.seed(123)\n",
    "\n",
    "# Random Initialize\n",
    "spins = 2*np.random.randint(2, size=(N, N))-1\n",
    "\n",
    "# Get sum of neighbours\n",
    "@njit\n",
    "def nb_neighbour_sum(i, j, spin_array):\n",
    "    north, south, east, west = 0, 0, 0, 0\n",
    "    max_height = spin_array.shape[0]\n",
    "    max_width = spin_array.shape[1]\n",
    "    if i > 0:\n",
    "        north = spin_array[i-1, j]\n",
    "    if i < max_height-1:\n",
    "        south = spin_array[i+1, j]\n",
    "    if j > 0:\n",
    "        west = spin_array[i, j-1]\n",
    "    if j < max_width-1:\n",
    "        east = spin_array[i, j+1]\n",
    "    res = north + south + east + west\n",
    "    return res\n",
    "\n",
    "@njit\n",
    "def nb_dE(i, j, spin_array):\n",
    "    return 2*spin_array[i, j]*nb_neighbour_sum(i, j, spin_array)\n",
    "\n",
    "@njit\n",
    "def nb_update(spin_array):\n",
    "    height = spin_array.shape[0]\n",
    "    width = spin_array.shape[1]\n",
    "    \n",
    "    for y_offset in range(2):\n",
    "        for x_offset in range(2):\n",
    "            for i in range(y_offset, height, 2):\n",
    "                for j in range(x_offset, width, 2):\n",
    "                    dEtmp = nb_dE(i, j, spin_array)\n",
    "                    if dEtmp <= 0 or np.exp(-dEtmp / kT) > np.random.random():\n",
    "                        spin_array[i, j] *= -1\n",
    "    \n",
    "    return spin_array\n",
    "\n",
    "@njit\n",
    "def nb_main_code(M, spin_array):\n",
    "    spin_tmp = spin_array\n",
    "    for x in range(M):\n",
    "        spin_tmp = nb_update(spin_tmp)\n",
    "    return spin_tmp"
   ]
  },
  {
   "cell_type": "markdown",
   "metadata": {},
   "source": [
    "## Cython\n",
    "\n",
    "Again we will modify the python code. We will see that while not too onerous it does require a little more work than the Numba example. The code is largely boilerplate but requires a little more thinking than the Numba example (e.g. in implementing this I initially forgot a static type definition of 1 variable which was causing a 300% increase in runtime)."
   ]
  },
  {
   "cell_type": "code",
   "execution_count": 3,
   "metadata": {},
   "outputs": [],
   "source": [
    "%load_ext Cython"
   ]
  },
  {
   "cell_type": "code",
   "execution_count": 4,
   "metadata": {
    "scrolled": true
   },
   "outputs": [],
   "source": [
    "%%cython\n",
    "\n",
    "cimport cython\n",
    "\n",
    "import numpy as np\n",
    "cimport numpy as cnp\n",
    "\n",
    "from libc.math cimport exp\n",
    "from libc.stdlib cimport rand\n",
    "cdef extern from \"limits.h\":\n",
    "    int RAND_MAX\n",
    "\n",
    "# Grid size: N (int) NxN square latice\n",
    "cdef int N = 1000\n",
    "\n",
    "# Fix Temp\n",
    "cdef float kT = 2 / np.log(1 + np.sqrt(2))\n",
    "cdef float kTinv = 1 / kT\n",
    "\n",
    "# Fix seed\n",
    "np.random.seed(123)\n",
    "\n",
    "# Random Initialize\n",
    "spins = 2*np.random.randint(2, size=(N, N))-1\n",
    "\n",
    "# Get sum of neighbours\n",
    "@cython.boundscheck(False)\n",
    "@cython.wraparound(False)\n",
    "cdef int cy_neighbour_sum(int i, int j, cnp.int32_t[:, :] spin_array):\n",
    "    cdef int north = 0\n",
    "    cdef int south = 0\n",
    "    cdef int east = 0\n",
    "    cdef int west = 0\n",
    "    cdef int max_height = spin_array.shape[0]\n",
    "    cdef int max_width = spin_array.shape[1]\n",
    "    if i > 0:\n",
    "        north = spin_array[i-1, j]\n",
    "    if i < max_height-1:\n",
    "        south = spin_array[i+1, j]\n",
    "    if j > 0:\n",
    "        west = spin_array[i, j-1]\n",
    "    if j < max_width-1:\n",
    "        east = spin_array[i, j+1]\n",
    "    cdef int res = north + south + east + west\n",
    "    return res\n",
    "\n",
    "@cython.boundscheck(False)\n",
    "@cython.wraparound(False)\n",
    "cdef int cy_dE(int i, int j, cnp.int32_t[:, :] spin_array):\n",
    "    return 2*spin_array[i, j]*cy_neighbour_sum(i, j, spin_array)\n",
    "\n",
    "@cython.boundscheck(False)\n",
    "@cython.wraparound(False)\n",
    "cdef cnp.int32_t[:, :] cy_update(cnp.int32_t[:, :] spin_array):\n",
    "    cdef int height = spin_array.shape[0]\n",
    "    cdef int width = spin_array.shape[1]\n",
    "    cdef int y_offset, x_offset\n",
    "    cdef int i, j\n",
    "    cdef int dEtmp\n",
    "    \n",
    "    for y_offset in range(2):\n",
    "        for x_offset in range(2):\n",
    "            for i in range(y_offset, height, 2):\n",
    "                for j in range(x_offset, width, 2):\n",
    "                    dEtmp = cy_dE(i, j, spin_array)\n",
    "                    if dEtmp <= 0:  \n",
    "                        spin_array[i, j] *= -1\n",
    "                    elif exp(-dEtmp * kTinv) * RAND_MAX > rand():\n",
    "                        spin_array[i, j] *= -1\n",
    "\n",
    "    return spin_array\n",
    "\n",
    "@cython.boundscheck(False)\n",
    "@cython.wraparound(False)\n",
    "cdef cnp.int32_t[:, :] cy_main_code(int M, cnp.int32_t[:, :] spin_array):\n",
    "    cdef int x\n",
    "    for x in range(M):\n",
    "        spin_array = cy_update(spin_array)\n",
    "    return spin_array\n",
    "\n",
    "@cython.boundscheck(False)\n",
    "@cython.wraparound(False)\n",
    "cpdef cnp.int32_t[:, :] cpy_main_code(int M, cnp.int32_t[:, :] spin_array):\n",
    "    return cy_main_code(M, spin_array)"
   ]
  },
  {
   "cell_type": "markdown",
   "metadata": {},
   "source": [
    "## Timing Results"
   ]
  },
  {
   "cell_type": "code",
   "execution_count": 5,
   "metadata": {},
   "outputs": [
    {
     "name": "stdout",
     "output_type": "stream",
     "text": [
      "52 s ± 2.53 s per loop (mean ± std. dev. of 7 runs, 1 loop each)\n",
      "244 ms ± 4.48 ms per loop (mean ± std. dev. of 7 runs, 1 loop each)\n",
      "395 ms ± 6.92 ms per loop (mean ± std. dev. of 7 runs, 1 loop each)\n"
     ]
    }
   ],
   "source": [
    "# Python\n",
    "%timeit _main_code(10, spins)\n",
    "\n",
    "# Numba\n",
    "%timeit nb_main_code(10, spins)\n",
    "\n",
    "# Cython\n",
    "%timeit cpy_main_code(10, spins)"
   ]
  },
  {
   "cell_type": "markdown",
   "metadata": {},
   "source": [
    "For our purposes the %timeout magic will be good enough a proxy for performance. We can see that the intial python implementation is very slow. For a 1000x1000 lattice and looping over 10 times, for my machine the python interation takes 50-55s. This would be fairly problematic if we wanted to sweep over the parameter space, find critical temperatures, perform random seed analyses etc. \n",
    "\n",
    "In contrast Numba only takes 240-250ms, an impressive 2000% speed up. Running the code multiple times now seems much less onerous. \n",
    "\n",
    "Cython is not quite as quick as the Numba implementation taking 390-400ms but still represents a significant speedup compared to Python. For practical applications the difference between Numba and Cython in this case may be insignificant.\n",
    "\n",
    "It is worth noting that these times are from my machine on at a specific time. The times achieved on your machine might be slightly different. Similarly changing the size of the lattice may change the ordering of which option is \"quickest\" - as always it's worth checking the code how it will be used rather than performing a benchmark like this for determining which option to use."
   ]
  },
  {
   "cell_type": "markdown",
   "metadata": {},
   "source": [
    "## Conclusion\n",
    "From the results above it may be tempting to claim Numba is the obvious choice given it is not only easier to implement than cython but also offers faster speeds. However I selected the 2d Ising model as an example since I knew the code would work well in Numba (in a sense I have been p-value hacking the experiment!) In certain situations (e.g. a code relying very heavily on class structures) Numba is either unusable or requires a complete code overhaul whereas cython can require only a few lines of boilerplate code. \n",
    "\n",
    "In other examples you can also see that Cython can severely outperform Numba, I am not sure why this is and the only real way to determine which will perform better is to perform testing (if somebody has an explanation/heuristic I'd love to hear it). It is also possible to interface numba and cython which has been useful to me in the past. For a quick example suppose we want to perform an inverse transform of a Beta(2,0.5) distribution:"
   ]
  },
  {
   "cell_type": "code",
   "execution_count": 8,
   "metadata": {},
   "outputs": [
    {
     "data": {
      "text/plain": [
       "0.4681225665264196"
      ]
     },
     "execution_count": 8,
     "metadata": {},
     "output_type": "execute_result"
    }
   ],
   "source": [
    "from scipy.stats import beta\n",
    "\n",
    "x = beta.ppf(0.1, 2, 0.5)\n",
    "x"
   ]
  },
  {
   "cell_type": "markdown",
   "metadata": {},
   "source": [
    "This cannot be optimised in Numba as it is (beta.ppf is currently not supported functionality - this may change by the time you read this). However we can take the address of the cython special function that this calls. We can then build the function in such a way as it can be seen by Numba:"
   ]
  },
  {
   "cell_type": "code",
   "execution_count": 9,
   "metadata": {},
   "outputs": [
    {
     "data": {
      "text/plain": [
       "0.4681225665264196"
      ]
     },
     "execution_count": 9,
     "metadata": {},
     "output_type": "execute_result"
    }
   ],
   "source": [
    "import ctypes\n",
    "from numba import types, njit\n",
    "from numba.extending import get_cython_function_address\n",
    "\n",
    "\n",
    "betaaddr = get_cython_function_address(\"scipy.special.cython_special\", \"btdtri\")\n",
    "functype3d = ctypes.CFUNCTYPE(ctypes.c_double, ctypes.c_double, ctypes.c_double, ctypes.c_double)\n",
    "beta_fn = functype3d(betaaddr)\n",
    "\n",
    "@njit\n",
    "def nb_beta_ppf(p, a, b):\n",
    "    return beta_fn(a, b, p)\n",
    "\n",
    "x = nb_beta_ppf(0.1, 2.0, 0.5)\n",
    "x"
   ]
  },
  {
   "cell_type": "markdown",
   "metadata": {},
   "source": [
    "As we can see this is a little ugly but it works.\n",
    "\n",
    "As a result of everything covered in these blog posts I do not believe that one option offers a significant advantage over the other and both offer valid tools for improving runtime. The choise of which to use in a given situation will depend on many factors and requires careful thought as to what is needed in a given setting."
   ]
  }
 ],
 "metadata": {
  "kernelspec": {
   "display_name": "Python 3",
   "language": "python",
   "name": "python3"
  },
  "language_info": {
   "codemirror_mode": {
    "name": "ipython",
    "version": 3
   },
   "file_extension": ".py",
   "mimetype": "text/x-python",
   "name": "python",
   "nbconvert_exporter": "python",
   "pygments_lexer": "ipython3",
   "version": "3.7.4"
  }
 },
 "nbformat": 4,
 "nbformat_minor": 2
}
