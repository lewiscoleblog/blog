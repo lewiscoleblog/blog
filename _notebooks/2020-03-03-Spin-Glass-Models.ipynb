{
 "cells": [
  {
   "cell_type": "markdown",
   "metadata": {},
   "source": [
    "# \"Spin Glass Models\"\n",
    "> \"In this blog post I will provide a quick overview of spin glass models. These models can be mathematically very dense, in this blog post I just aim to give a flavour - in future posts I will come back and look at the models in more detail. Fortunately there tends to be a simple visual representation which we can use to gain an insight. (Note: I look at spin glasses mostly through a mathematical lense, some of the physics interpretations may be a bit ropey.)\"\n",
    "- toc: true\n",
    "- author: Lewis Cole (2020)\n",
    "- branch: master\n",
    "- badges: false\n",
    "- comments: false\n",
    "- categories: [computational-statistics, spin-glass, magnets]\n",
    "- hide: false\n",
    "- search_exclude: false\n",
    "- image: https://github.com/lewiscoleblog/blog/raw/master/images/spin-glass/spin_glass.png"
   ]
  },
  {
   "cell_type": "markdown",
   "metadata": {},
   "source": [
    "## What is a Spin Glass?\n",
    "A spin glass is not something you find down the pub (well it could be, but thats not what we're talking about here). Instead spin glasses are models of certain magnetic materials. Very loosely we can think of the atoms of a magnetic material as having a \"spin\" relating to the magnetic polarity (\"north\" or \"south\" ends of a bar magnet) - we typically call these up-spin and down-spin. In this context we use the term \"atom\" loosely, it may be an atom in a chemical sense but it could also be a molecule - essentially a minimal element of the material.\n",
    "\n",
    "In a ferromagnetic material (such as iron) spins orient in the same direction. In contrast antiferromagnetic materials the spins orient to oppose each other. In a spin glass we have some ferromagnetic interactions and some antiferromagnetic interactions, we say the system is \"disordered\".\n",
    "\n",
    "![](https://github.com/lewiscoleblog/blog/raw/master/images/spin-glass/spin_glass.png)\n",
    "\n",
    "In the image above we can see various spin configurations. The spins are indicated by arrows (yellow for up and green for down) the ferromagnetic interactions are denoted by blue lines while antiferromagnetic interactions by red. However it is somewhat misleading to think of these occuring only within a square lattice in 2d such as this. Spins also do not have to be 180 degree rotations of each other - they can be at arbitrary angles from each other (but this would make for a messy diagram). A spin glass can also occur in arbitrarily many dimensions, and the interactions do not only have to occur between \"nearest neighbours\" any atom can have any number of interacting partners. \n",
    "\n",
    "We can represent the energy of a spin glass system using the Hamiltonian:\n",
    "$$ H = - \\sum_{x,y} J_{xy} \\sigma_x \\sigma_y  - h \\sum_x \\sigma_x $$\n",
    "Where $J_{xy}$ denotes an interaction strength between atoms $x$ and $y$. $\\sigma_x$ represents the spin/magnetism of an atom $x$ (can be a vector in which case all products are dot products). A system will tend to a state of lowest energy and so $J_{xy} > 0$ represents a ferromagnetic interaction (minimised for pairs of matching spin) and $J_{xy} < 0$ for antiferromagnetic interactions. The range over which the sum applies has been left purposely ambiguous as to allow for various lattice topologies. The second summation reflects an interaction with an external magnetic field (denoted by $h$) if there is no external field the term can be ignored. (It is worth noting that magnetic spins for a specific atom can only take one of two values (rotated through 180 degrees) since electrons have half integer spin)\n",
    "\n",
    "This allows us to define an important term relating to spin glasses. We can note that at a minimal energy (\"ground state\") the spin glass will not be \"ordered\" (it will appear \"random\"). We call this property **\"quenched disorder\"** - this is due to the similarity to glass materials that are essentially cooled down liquids that get \"frozen\" into a state of disorder. \n",
    "\n",
    "It is important to note this is different to pure \"randomness\". If we think of a continuum whereby we have complete order on one side (think of a crystalline type structure as an example) and pure randomness on the other the spin glass lives somewhere in the middle - partially structured and ordered but partially random. This is a particularly interesting place to be: in the pure ordered end of the scale there are many established mathematical tools to deal with this situation. Similarly in a pure random situation probability and statistics can provide us tools for study. In the middle things get complicated since you cannot necessarily assume that any one element will \"look the same\" as any other - thus mean field methods fall down. This occurs in many \"real world\" phenomena, this can result in a lack of study since it \"falls inbetween\" different disciplines.\n",
    "\n",
    "![](https://github.com/lewiscoleblog/blog/raw/master/images/spin-glass/Continuum.png)\n",
    "\n",
    "There is another important term relating to spin glasses called **\"frustration\"**. This is where an atom has interactions with other atoms that are in conflict with each other - one interaction would suggest a lowest energy state for the atom is an up spin and another interaction suggests a down spin. An example of this can be seen below:\n",
    "\n",
    "![](https://github.com/lewiscoleblog/blog/raw/master/images/spin-glass/frustration.png)\n",
    "\n",
    "We can see that the spin of the centre atom is not clearly defined by interaction with its neighbours. The vertical neighbours interactions suggest the lowest energy state would be a yellow up spin, while horizontal neighbours suggest a green down spin. In a large spin glass with random (or nearly random) configuartions there may be many such frustrated atoms. This gives rise to complexity and questions such as \"what is the lowest energy state for a system?\" becomes very difficult to answer. In many cases we are not able to determine this analytically. The energy landscape (the Hamiltonian energy for a given configuration of spins given a fixed topology of interactions) can become very complex with lots of local minima, which means \"typical\" optimization procedures based around greedy hill climbing (and the like) will struggle to find the global minimum. See the plot of energy landscape below as an example:\n",
    " \n",
    "![](https://github.com/lewiscoleblog/blog/raw/master/images/spin-glass/energy_landscape.png)\n",
    "(Source: https://ps.uci.edu/~cyu/p115A/LectureNotes/Lecture18/html_version/lecture18.html)\n",
    "\n",
    "If one ends up in a configuration near one of these local minima it requires relatively large changes to the configuration to escape the valley. This leads to a kind of \"metastability\" in the system where the configuration will \"stick\" around these points for a long time. As such spin glasses tend to violate the Ergodic principle, this again adds to the mathematical complication in dealing with these systems.\n",
    "\n",
    "Although the system would \"prefer\" to be in a lower energy state through the application of a temperature (or placing the system within an external magnetic field) the atoms can have sufficient energy to escape this lower energy state. For high enough temperatures this means a ferromagnetic material can become antiferromagnetic. In most cases there exists a critical temperature where a phase transition occurs. Phase transitions are interesting examples of **emergence** - one example of a phase transition that everybody is familiar with is the phenomena of melting a solid to create a liquid. It is interesting that this is a very sharp transition - why is it not the case that a solid gradually becomes \"softer\" and more liquid like? Instead small temperature fluctuations can cause the state of matter to change. It is not immediately obvious why this is the case, other phase transitions exist in other systems and they are often interesting to analyse.\n",
    "\n",
    "The eagle eyed amongst you may notice that we have ignored the interference between spins themselves. It is true that this will have an impact but in most mathematical models of spin glasses it can be ignored. As with all mathematical models we look for a \"minimal description\" that captures the behaviour of interest, it turns out that this complication tends not to add much to the model (although I'm sure there exists research with interesting results capturing this interference).\n",
    "\n",
    "So what are some physical examples of a spin glass in the real world? Technically any iron magnet subject to rust (which is antiferromagnetic) will be a spin glass, however typically the ferromagnetic atoms will still be so prevelent that we can think of it as a ferromagnet. There are other \"exotic\" molecules (e.g. europium strontium sulphide) that are spin glasses also. Many of the experiments on spin glasses involve melting down a noble metal (e.g. gold or silver) and adding a small amount of dispersed molten iron (typically around 0.1-5%) and cooling the mixture very quickly. Many counter-intuitive and contradictory properties have been found through these experiments including:\n",
    "* By cooling quickly one can avoid the transition from liquid to solid - creating a viscous liquid spin glass\n",
    "* Relaxation times (how long it takes the system to adjust to changes in temperature) can be very slow, way beyond experimental time frames\n",
    "* Interactions with magnetic fields are odd. Absent of a magnetic field a spin glass is not magnetic. By carefully applying and removing external magnetic fields one can create a magnetic spin glass with varying properties (decays, apparent permanence etc.)\n",
    "* Spin glasses appear to have a \"memory\" of previous states and undergo something akin to an aging process\n",
    "Creating theoretical explanations of these (and other) phenomena is the subject of much research on the subject.\n",
    "\n",
    "## Why do we care?\n",
    "Ok, so at this point we may have a base understanding of what a spin glass is and some of the complications and properties therein, but you may be thinking: \"but who cares about magnets anyway?\" (Unless of course you are [Charlie Kelly](https://i.imgur.com/wZfi1wk.jpg)) It does seem like a lot of work and as a non-physicist it might seem interesting. However in dealing with the complications of spin glasses we can gain a lot of insight into other systems. In the next few bullet points I will try and convince you that it is worth time playing around with spin glasses:\n",
    "* **They're interesting!** - Spin glasses exhibit a number of properties that I personally find very interesting, for example: emergent behaviour, \"in between\" order and randomness, simple concepts to explain but difficult to write down mathematically, etc.\n",
    "* **Non-ergodic systems are everywhere!** - Although spin glasses themselves are quite stylised if they can give insight into the behaviour of non-Ergodic systems this is very useful. Loosely speaking an Ergodic system does not exhibit path depedence (e.g. whatever the state at present eventually any other state can be reached). When looking at complex systems this is typically not the case.\n",
    "* **Frustration occurs more than we would like** - We often end up in the situation with \"conflicting\" information and dealing with this gives rise to many opportunities.\n",
    "* **They're easy to simulate** - while some of the properties above make mathematical analysis difficult in all but a few special cases, spin glasses are fairly easy to code up and simulate. If you wonder \"what would happen if....?\" you can quickly modify a model and play around to see what happens, you don't need to spend much time thinking about boundary/initial conditions or other technical aspects.\n",
    "* **There are many different applications** - Given the ubiquity of some of the complications relating to spin glasses the techniques and theory have been applied to many situations including (but not limited to): optimization techniques, neural networks (biological and artificial), machine learning, protein folding, materials science, evolutionary models. The study of quantum spin glasses is also fairly active with applications in quantum computing.\n",
    "\n",
    "## Conclusion\n",
    "In this blog post we have been on a whistle-stop tour of the very basic concepts of spin glasses and models of spin glasses. We have seen some of the difficulties with them and what makes them interesting and useful to study. In future blog posts we will look at specific models and mathematical techniques used to study them."
   ]
  }
 ],
 "metadata": {
  "kernelspec": {
   "display_name": "Python 3",
   "language": "python",
   "name": "python3"
  },
  "language_info": {
   "codemirror_mode": {
    "name": "ipython",
    "version": 3
   },
   "file_extension": ".py",
   "mimetype": "text/x-python",
   "name": "python",
   "nbconvert_exporter": "python",
   "pygments_lexer": "ipython3",
   "version": "3.7.4"
  }
 },
 "nbformat": 4,
 "nbformat_minor": 2
}
